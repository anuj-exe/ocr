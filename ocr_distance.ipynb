{
  "cells": [
    {
      "cell_type": "code",
      "execution_count": null,
      "metadata": {
        "id": "zJYUK30ePkrS"
      },
      "outputs": [],
      "source": [
        "!pip install google-cloud-vision\n",
        "!pip install pillow\n",
        "!pip install thefuzz"
      ]
    },
    {
      "cell_type": "code",
      "execution_count": null,
      "metadata": {
        "id": "4weNNGB5XIBa"
      },
      "outputs": [],
      "source": [
        "from google.cloud import vision_v1\n",
        "from google.cloud.vision_v1 import types\n",
        "import os\n",
        "import io\n",
        "import sys\n",
        "import re\n",
        "from PIL import Image, ImageDraw\n",
        "import argparse\n",
        "from enum import Enum\n",
        "import json\n",
        "from collections import defaultdict"
      ]
    },
    {
      "cell_type": "code",
      "execution_count": null,
      "metadata": {
        "id": "xJIca7tjXiV4"
      },
      "outputs": [],
      "source": [
        "apikey = 'here'\n",
        "def txtgrab(apikey,filename):\n",
        "  client = vision_v1.ImageAnnotatorClient(client_options={\"api_key\": apikey})\n",
        "  bounds = []\n",
        "  with io.open(filename, 'rb') as image_file:\n",
        "          content = image_file.read()\n",
        "  image = types.Image(content=content)\n",
        "  response = client.document_text_detection(image=image)\n",
        "  document = response.full_text_annotation\n",
        "  return [document,response,bounds]\n",
        "[document,response,bounds] = txtgrab(apikey,'img_path')"
      ]
    },
    {
      "cell_type": "markdown",
      "metadata": {
        "id": "8Op24kkIq9Ys"
      },
      "source": [
        "#Getting coordinates for the words"
      ]
    },
    {
      "cell_type": "code",
      "execution_count": null,
      "metadata": {
        "id": "eBv4zp5EZvMk"
      },
      "outputs": [],
      "source": [
        "class FeatureType(Enum):\n",
        "      PAGE = 1\n",
        "      BLOCK = 2\n",
        "      PARA = 3\n",
        "      WORD = 4\n",
        "      SYMBOL = 5\n",
        "\n",
        "def draw_boxes(image, bounds, color):\n",
        "    draw = ImageDraw.Draw(image)\n",
        "\n",
        "    for bound in bounds:\n",
        "        draw.polygon(\n",
        "            [\n",
        "                bound.vertices[0].x,\n",
        "                bound.vertices[0].y,\n",
        "                bound.vertices[1].x,\n",
        "                bound.vertices[1].y,\n",
        "                bound.vertices[2].x,\n",
        "                bound.vertices[2].y,\n",
        "                bound.vertices[3].x,\n",
        "                bound.vertices[3].y,\n",
        "            ],\n",
        "            None,\n",
        "            color,\n",
        "        )\n",
        "    return image\n",
        "\n",
        "\n",
        "def get_document_bounds(response, feature):\n",
        "    jpg_image = Image.open(\"img_path\")\n",
        "    content = jpg_image.convert(\"RGB\")\n",
        "    dictionaryForCoordinates = defaultdict(list)\n",
        "    for i,page in enumerate(document.pages):\n",
        "        for block in page.blocks:\n",
        "            if feature==FeatureType.BLOCK:\n",
        "                bounds.append(block.bounding_box)\n",
        "            for paragraph in block.paragraphs:\n",
        "                if feature==FeatureType.PARA:\n",
        "                    bounds.append(paragraph.bounding_box)\n",
        "                for word in paragraph.words:\n",
        "\n",
        "                    ourword=\"\"\n",
        "                    for symbol in word.symbols:\n",
        "                        if (feature == FeatureType.SYMBOL):\n",
        "                            bounds.append(symbol.bounding_box)\n",
        "                        ourword=ourword+(symbol.text)\n",
        "                    if (feature == FeatureType.WORD):\n",
        "                        bounds.append(word.bounding_box)\n",
        "                        dictionaryForCoordinates[ourword].append(word.bounding_box)\n",
        "\n",
        "    return [content,bounds,dictionaryForCoordinates]\n",
        "\n",
        "\n",
        "content,bounds,dictionaryForCoordinates=get_document_bounds(response, FeatureType.WORD)\n",
        "#draw_boxes(content,bounds,'yellow')"
      ]
    },
    {
      "cell_type": "markdown",
      "metadata": {
        "id": "RoT15INCrHYF"
      },
      "source": [
        "#Distance calculation for any given two words"
      ]
    },
    {
      "cell_type": "code",
      "execution_count": null,
      "metadata": {
        "id": "McXULu-xrL_o"
      },
      "outputs": [],
      "source": [
        "def distanceBetweenTwoWords(w1,w2):\n",
        "  CoordinatesOfW1=dictionaryForCoordinates[w1]\n",
        "  CoordinatesOfW2=dictionaryForCoordinates[w2]\n",
        "  CoordinatesOfW1 = str(CoordinatesOfW1)\n",
        "  CoordinatesOfW2 = str(CoordinatesOfW2)\n",
        "  W1xvalues = [int(x) for x in re.findall(r'x: (\\d+)', CoordinatesOfW1)]\n",
        "  W1yvalues = [int(y) for y in re.findall(r'y: (\\d+)', CoordinatesOfW1)]\n",
        "  W2xvalues = [int(x) for x in re.findall(r'x: (\\d+)', CoordinatesOfW2)]\n",
        "  W2yvalues = [int(y) for y in re.findall(r'y: (\\d+)', CoordinatesOfW2)]\n",
        "  horizontalCenterOfW1 = (W1xvalues[1]+W1xvalues[0])/2\n",
        "  horizontalCenterOfW2 = (W2xvalues[1]+W2xvalues[0])/2\n",
        "  verticalCenterOfW1 = (W1yvalues[2]+W1yvalues[1])/2\n",
        "  verticalCenterOfW2 = (W2yvalues[2]+W2yvalues[1])/2\n",
        "  horizontalDistance = abs(horizontalCenterOfW2-horizontalCenterOfW1)\n",
        "  verticalDistance = abs(verticalCenterOfW2-verticalCenterOfW1)\n",
        "\n",
        "  return [horizontalDistance,verticalDistance]\n",
        "\n",
        "def distanceBetweenTwoWordsAllIterations(w1,w2):\n",
        "  AllCoordinatesOfW1=dictionaryForCoordinates[w1]\n",
        "  AllCoordinatesOfW2=dictionaryForCoordinates[w2]\n",
        "  AllDistances = []\n",
        "  for i in AllCoordinatesOfW1:\n",
        "    for j in AllCoordinatesOfW2:\n",
        "        CoordinatesOfW1 = str(i)\n",
        "        CoordinatesOfW2 = str(j)\n",
        "\n",
        "        W1xvalues = [int(x) for x in re.findall(r'x: (\\d+)', CoordinatesOfW1)]\n",
        "        W1yvalues = [int(y) for y in re.findall(r'y: (\\d+)', CoordinatesOfW1)]\n",
        "        W2xvalues = [int(x) for x in re.findall(r'x: (\\d+)', CoordinatesOfW2)]\n",
        "        W2yvalues = [int(y) for y in re.findall(r'y: (\\d+)', CoordinatesOfW2)]\n",
        "\n",
        "        horizontalCenterOfW1 = (W1xvalues[1]+W1xvalues[0])/2\n",
        "        horizontalCenterOfW2 = (W2xvalues[1]+W2xvalues[0])/2\n",
        "        verticalCenterOfW1 = (W1yvalues[2]+W1yvalues[1])/2\n",
        "        verticalCenterOfW2 = (W2yvalues[2]+W2yvalues[1])/2\n",
        "        horizontalDistance = abs(horizontalCenterOfW2-horizontalCenterOfW1)\n",
        "        verticalDistance = abs(verticalCenterOfW2-verticalCenterOfW1)\n",
        "        AllDistances.append([horizontalDistance,verticalDistance])\n",
        "  return AllDistances\n",
        "\n",
        "\n",
        "print(distanceBetweenTwoWordsAllIterations('Word1','Word2'))\n",
        "\n",
        "\n",
        "\n",
        "def sameLine(w1,w2):\n",
        "  for i in distanceBetweenTwoWordsAllIterations(w1,w2):\n",
        "    if i[0]>10 and i[1]<15:\n",
        "      return [True,i]\n",
        "  else:\n",
        "    return [False,i]"
      ]
    },
    {
      "cell_type": "markdown",
      "metadata": {
        "id": "lR4kUnB4rssO"
      },
      "source": [
        "# User X"
      ]
    }
  ],
  "metadata": {
    "colab": {
      "provenance": []
    },
    "kernelspec": {
      "display_name": "Python 3",
      "name": "python3"
    },
    "language_info": {
      "name": "python"
    }
  },
  "nbformat": 4,
  "nbformat_minor": 0
}
